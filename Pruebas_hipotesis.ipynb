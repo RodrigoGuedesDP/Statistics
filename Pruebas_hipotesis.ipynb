{
  "nbformat": 4,
  "nbformat_minor": 0,
  "metadata": {
    "colab": {
      "provenance": [],
      "authorship_tag": "ABX9TyO1HgtYkZZUZ3BuwWVVCRop",
      "include_colab_link": true
    },
    "kernelspec": {
      "name": "python3",
      "display_name": "Python 3"
    },
    "language_info": {
      "name": "python"
    }
  },
  "cells": [
    {
      "cell_type": "markdown",
      "metadata": {
        "id": "view-in-github",
        "colab_type": "text"
      },
      "source": [
        "<a href=\"https://colab.research.google.com/github/RodrigoGuedesDP/Statistics/blob/main/Pruebas_hipotesis.ipynb\" target=\"_parent\"><img src=\"https://colab.research.google.com/assets/colab-badge.svg\" alt=\"Open In Colab\"/></a>"
      ]
    },
    {
      "cell_type": "code",
      "source": [
        "import scipy.stats as stats\n",
        "\n",
        "# Datos de la tabla\n",
        "desinfectantes = {\n",
        "    \"Etanol\": {\n",
        "        \"media\": 3.73,\n",
        "        \"varianza\": 2.78095,\n",
        "        \"n\": 15\n",
        "    },\n",
        "    \"Blanqueador\": {\n",
        "        \"media\": 4.80,\n",
        "        \"varianza\": 0.17143,\n",
        "        \"n\": 15\n",
        "    }\n",
        "}\n",
        "\n",
        "varianza_etanol = 2.78095\n",
        "varianza_blanqueador = 0.17143\n",
        "n_etanol =  15\n",
        "n_blanqueador =  15\n",
        "\n",
        "F = max(varianza_etanol, varianza_blanqueador) / min(varianza_etanol, varianza_blanqueador)\n",
        "print(f\"Estadístico F = {F:.4f}\")\n",
        "\n",
        "df_num = n_etanol - 1\n",
        "df_den = n_blanqueador - 1\n",
        "\n",
        "p_value = 2 * (1 - stats.f.cdf(F, df_num, df_den))\n",
        "\n",
        "print(f\"Valor p = {p_value:.10f}\")\n",
        "\n",
        "\n",
        "alpha = 0.05\n",
        "if p_value < alpha:\n",
        "    print(\" Rechazamos la hipótesis nula (las varianzas NO son iguales)\")\n",
        "else:\n",
        "    print(\"\\n No hay evidencia para rechazar la hipótesis nula (las varianzas son iguales)\")"
      ],
      "metadata": {
        "colab": {
          "base_uri": "https://localhost:8080/"
        },
        "id": "Y6oeAmogG4oq",
        "outputId": "fe5ed2da-2cf0-4992-c613-e71b1aa18bf5"
      },
      "execution_count": 5,
      "outputs": [
        {
          "output_type": "stream",
          "name": "stdout",
          "text": [
            "Estadístico F = 16.2221\n",
            "Valor p = 0.0000055895\n",
            "\n",
            "Conclusión: Rechazamos la hipótesis nula (las varianzas NO son iguales)\n"
          ]
        }
      ]
    }
  ]
}